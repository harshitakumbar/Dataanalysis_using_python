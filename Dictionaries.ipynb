{
 "cells": [
  {
   "cell_type": "code",
   "execution_count": 4,
   "id": "f9e29d38",
   "metadata": {},
   "outputs": [
    {
     "name": "stdout",
     "output_type": "stream",
     "text": [
      "shabnam\n",
      "phd\n"
     ]
    }
   ],
   "source": [
    "dict={'name':'shabnam','designation':'AsP','qual':'phd','univ':'cmr'}\n",
    "print(dict['name'])\n",
    "\n",
    "\n",
    "print(dict['qual'])"
   ]
  },
  {
   "cell_type": "code",
   "execution_count": 6,
   "id": "dae64caa",
   "metadata": {},
   "outputs": [
    {
     "name": "stdout",
     "output_type": "stream",
     "text": [
      "sharma\n",
      "cse7sem\n"
     ]
    }
   ],
   "source": [
    "dict={'name':'shabnam','designation':'AsP','qual':'phd','univ':'cmr'}\n",
    "\n",
    "dict['name']='sharma'\n",
    "\n",
    "print(dict['name'])\n",
    "\n",
    "dict['class']='cse7sem'\n",
    "\n",
    "print(dict['class'])\n",
    "\n"
   ]
  },
  {
   "cell_type": "code",
   "execution_count": 11,
   "id": "a812e5e4",
   "metadata": {},
   "outputs": [],
   "source": [
    "dict={'name':'shabnam','designation':'AsP','qual':'phd','univ':'cmr'}\n",
    "\n",
    "\n",
    "del dict['designation']\n",
    "\n",
    "#print(dict['designation'])\n",
    "\n",
    "dict.clear()\n",
    "\n",
    "#print(dict['name'])\n",
    "\n",
    "del dict"
   ]
  },
  {
   "cell_type": "code",
   "execution_count": 13,
   "id": "fd8f8734",
   "metadata": {},
   "outputs": [
    {
     "name": "stdout",
     "output_type": "stream",
     "text": [
      "Nishitha\n",
      "4\n"
     ]
    }
   ],
   "source": [
    "dict={'name':'shabnam','designation':'AsP','qual':'phd','univ':'cmr', 'name':'Nishitha'}\n",
    "\n",
    "\n",
    "print(dict['name'])\n",
    "\n",
    "print(len(dict))"
   ]
  },
  {
   "cell_type": "code",
   "execution_count": 16,
   "id": "7a9cf5ae",
   "metadata": {},
   "outputs": [
    {
     "name": "stdout",
     "output_type": "stream",
     "text": [
      "dict_values(['Nishitha', 'AsP', 'phd', 'cmr'])\n",
      "dict_items([('name', 'Nishitha'), ('designation', 'AsP'), ('qual', 'phd'), ('univ', 'cmr')])\n",
      "dict_keys(['name', 'designation', 'qual', 'univ'])\n"
     ]
    }
   ],
   "source": [
    "dict={'name':'shabnam','designation':'AsP','qual':'phd','univ':'cmr', 'name':'Nishitha'}\n",
    "\n",
    "\n",
    "print(dict.values())\n",
    "\n",
    "print(dict.items())\n",
    "\n",
    "print(dict.keys())"
   ]
  },
  {
   "cell_type": "code",
   "execution_count": 18,
   "id": "2842e9db",
   "metadata": {},
   "outputs": [
    {
     "name": "stdout",
     "output_type": "stream",
     "text": [
      "Nishitha\n",
      "nothing\n"
     ]
    }
   ],
   "source": [
    "dict={'name':'shabnam','designation':'AsP','qual':'phd','univ':'cmr', 'name':'Nishitha'}\n",
    "\n",
    "\n",
    "print(dict['name'])\n",
    "\n",
    "print(dict.get('edu',\"nothing\"))\n",
    "\n",
    "\n"
   ]
  },
  {
   "cell_type": "code",
   "execution_count": 20,
   "id": "243dda29",
   "metadata": {},
   "outputs": [
    {
     "name": "stdout",
     "output_type": "stream",
     "text": [
      "Nishitha\n",
      "4\n"
     ]
    }
   ],
   "source": [
    "dict={'name':'shabnam','designation':'AsP','qual':'phd','univ':'cmr', 'name':'Nishitha'}\n",
    "\n",
    "\n",
    "dict2=dict.copy()\n",
    "\n",
    "print(dict2['name'])\n",
    "\n",
    "print(len(dict2))"
   ]
  },
  {
   "cell_type": "code",
   "execution_count": 23,
   "id": "6a57403b",
   "metadata": {},
   "outputs": [
    {
     "name": "stdout",
     "output_type": "stream",
     "text": [
      "{'name': 'Nishitha', 'designation': 'AsP', 'qual': 'phd', 'univ': 'cmr'}\n",
      "{'edu': 'btech-mtech', 'students': '7sem'}\n",
      "{'name': 'Nishitha', 'designation': 'AsP', 'qual': 'phd', 'univ': 'cmr', 'edu': 'btech-mtech', 'students': '7sem'}\n"
     ]
    }
   ],
   "source": [
    "dict={'name':'shabnam','designation':'AsP','qual':'phd','univ':'cmr', 'name':'Nishitha'}\n",
    "\n",
    "\n",
    "dict2={'edu':'btech-mtech','students':'7sem'}\n",
    "\n",
    "print(dict)\n",
    "print(dict2)\n",
    "\n",
    "dict.update(dict2)\n",
    "\n",
    "print(dict)"
   ]
  },
  {
   "cell_type": "code",
   "execution_count": null,
   "id": "4e542941",
   "metadata": {},
   "outputs": [],
   "source": []
  }
 ],
 "metadata": {
  "kernelspec": {
   "display_name": "Python 3",
   "language": "python",
   "name": "python3"
  },
  "language_info": {
   "codemirror_mode": {
    "name": "ipython",
    "version": 3
   },
   "file_extension": ".py",
   "mimetype": "text/x-python",
   "name": "python",
   "nbconvert_exporter": "python",
   "pygments_lexer": "ipython3",
   "version": "3.8.8"
  }
 },
 "nbformat": 4,
 "nbformat_minor": 5
}
